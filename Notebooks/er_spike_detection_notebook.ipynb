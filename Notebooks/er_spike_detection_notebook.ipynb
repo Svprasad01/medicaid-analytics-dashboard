{
 "cells": [
  {
   "cell_type": "code",
   "execution_count": null,
   "id": "46781065",
   "metadata": {},
   "outputs": [],
   "source": [
    "# Phase 4: Avoidable ER Cost Spike Detection"
   ]
  },
  {
   "cell_type": "code",
   "execution_count": null,
   "id": "2b3471c7",
   "metadata": {},
   "outputs": [],
   "source": [
    "## 🔹 Step 1: Import Libraries\n",
    "import pandas as pd\n",
    "import matplotlib.pyplot as plt\n",
    "from scipy.stats import zscore"
   ]
  },
  {
   "cell_type": "code",
   "execution_count": null,
   "id": "f0e6a9da",
   "metadata": {},
   "outputs": [],
   "source": [
    "## 🔹 Step 2: Load Monthly Avoidable ER Cost Data\n",
    "# Replace with the path to your exported avoidable_er_trend.csv\n",
    "df = pd.read_csv(\"avoidable_er_trend.csv\")"
   ]
  },
  {
   "cell_type": "code",
   "execution_count": null,
   "id": "d32f5bc6",
   "metadata": {},
   "outputs": [],
   "source": [
    "# Convert month to datetime\n",
    "df[\"member_month\"] = pd.to_datetime(df[\"member_month\"])"
   ]
  },
  {
   "cell_type": "code",
   "execution_count": null,
   "id": "4fdd12e0",
   "metadata": {},
   "outputs": [],
   "source": [
    "# Sort by date\n",
    "df.sort_values(\"member_month\", inplace=True)"
   ]
  },
  {
   "cell_type": "code",
   "execution_count": null,
   "id": "782a0377",
   "metadata": {},
   "outputs": [],
   "source": [
    "## 🔹 Step 3: Plot Monthly Avoidable ER Cost\n",
    "plt.figure(figsize=(12, 5))\n",
    "plt.plot(df[\"member_month\"], df[\"total_avoidable_cost\"], marker=\"o\")\n",
    "plt.title(\"Avoidable ER Cost by Month\")\n",
    "plt.xlabel(\"Month\")\n",
    "plt.ylabel(\"Total Avoidable ER Cost ($)\")\n",
    "plt.grid(True)\n",
    "plt.show()"
   ]
  },
  {
   "cell_type": "code",
   "execution_count": null,
   "id": "7b180ba5",
   "metadata": {},
   "outputs": [],
   "source": [
    "## 🔹 Step 4: Calculate Z-Scores to Detect Spikes\n",
    "df[\"zscore\"] = zscore(df[\"total_avoidable_cost\"])"
   ]
  },
  {
   "cell_type": "code",
   "execution_count": null,
   "id": "8cf48bd6",
   "metadata": {},
   "outputs": [],
   "source": [
    "# Flag spike months (z > 1.5)\n",
    "df[\"spike_flag\"] = df[\"zscore\"].apply(lambda z: 1 if z > 1.5 else 0)"
   ]
  },
  {
   "cell_type": "code",
   "execution_count": null,
   "id": "d700a9a3",
   "metadata": {},
   "outputs": [],
   "source": [
    "## 🔹 Step 5: Display Spike Months\n",
    "spikes = df[df[\"spike_flag\"] == 1]\n",
    "print(\"🔺 Spike Months Detected:\")\n",
    "print(spikes[[\"member_month\", \"total_avoidable_cost\", \"zscore\"]])"
   ]
  },
  {
   "cell_type": "code",
   "execution_count": null,
   "id": "62d9ed79",
   "metadata": {},
   "outputs": [],
   "source": [
    "## 🔹 Step 6: Visualize with Highlighted Spikes\n",
    "plt.figure(figsize=(12, 5))\n",
    "plt.plot(df[\"member_month\"], df[\"total_avoidable_cost\"], label=\"Avoidable ER Cost\", marker=\"o\")\n",
    "plt.scatter(spikes[\"member_month\"], spikes[\"total_avoidable_cost\"], color=\"red\", label=\"Spikes\", zorder=5)\n",
    "plt.title(\"Avoidable ER Cost Spikes\")\n",
    "plt.xlabel(\"Month\")\n",
    "plt.ylabel(\"Cost ($)\")\n",
    "plt.legend()\n",
    "plt.grid(True)\n",
    "plt.show()"
   ]
  }
 ],
 "metadata": {},
 "nbformat": 4,
 "nbformat_minor": 5
}
