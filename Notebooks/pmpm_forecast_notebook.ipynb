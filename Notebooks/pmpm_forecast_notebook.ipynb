{
 "cells": [
  {
   "cell_type": "code",
   "execution_count": null,
   "id": "6d3b4cc8",
   "metadata": {},
   "outputs": [],
   "source": [
    "# Phase 3: Forecasting PMPM in Python"
   ]
  },
  {
   "cell_type": "code",
   "execution_count": null,
   "id": "483db83e",
   "metadata": {},
   "outputs": [],
   "source": [
    "## 🔹 Step 1: Import Libraries\n",
    "import pandas as pd\n",
    "import matplotlib.pyplot as plt\n",
    "from statsmodels.tsa.api import SimpleExpSmoothing\n",
    "import warnings\n",
    "warnings.filterwarnings(\"ignore\")"
   ]
  },
  {
   "cell_type": "code",
   "execution_count": null,
   "id": "9057fc6f",
   "metadata": {},
   "outputs": [],
   "source": [
    "## 🔹 Step 2: Load the PMPM CSV\n",
    "# Replace the file path with your local path to the exported file\n",
    "df = pd.read_csv(\"pmpm.csv\")"
   ]
  },
  {
   "cell_type": "code",
   "execution_count": null,
   "id": "0934f612",
   "metadata": {},
   "outputs": [],
   "source": [
    "# Convert month to datetime\n",
    "df[\"member_month\"] = pd.to_datetime(df[\"member_month\"])"
   ]
  },
  {
   "cell_type": "code",
   "execution_count": null,
   "id": "f1e089e1",
   "metadata": {},
   "outputs": [],
   "source": [
    "# Filter for each claim type\n",
    "inpatient = df[df[\"claim_type\"] == \"Inpatient\"].copy()\n",
    "pharmacy = df[df[\"claim_type\"] == \"Pharmacy\"].copy()"
   ]
  },
  {
   "cell_type": "code",
   "execution_count": null,
   "id": "a3b1c3ad",
   "metadata": {},
   "outputs": [],
   "source": [
    "# Set month as index\n",
    "inpatient.set_index(\"member_month\", inplace=True)\n",
    "pharmacy.set_index(\"member_month\", inplace=True)"
   ]
  },
  {
   "cell_type": "code",
   "execution_count": null,
   "id": "1cc2de94",
   "metadata": {},
   "outputs": [],
   "source": [
    "## 🔹 Step 3: Plot Historical PMPM\n",
    "plt.figure(figsize=(12, 5))\n",
    "plt.plot(inpatient[\"pmpm\"], label=\"Inpatient PMPM\")\n",
    "plt.plot(pharmacy[\"pmpm\"], label=\"Pharmacy PMPM\")\n",
    "plt.title(\"Historical PMPM by Claim Type\")\n",
    "plt.ylabel(\"PMPM ($)\")\n",
    "plt.xlabel(\"Month\")\n",
    "plt.legend()\n",
    "plt.grid(True)\n",
    "plt.show()"
   ]
  },
  {
   "cell_type": "code",
   "execution_count": null,
   "id": "e3101939",
   "metadata": {},
   "outputs": [],
   "source": [
    "## 🔹 Step 4: Forecast Using Simple Exponential Smoothing (as an example)\n",
    "model_inpatient = SimpleExpSmoothing(inpatient[\"pmpm\"]).fit(smoothing_level=0.5, optimized=False)\n",
    "forecast_inpatient = model_inpatient.forecast(6)"
   ]
  },
  {
   "cell_type": "code",
   "execution_count": null,
   "id": "d55306e8",
   "metadata": {},
   "outputs": [],
   "source": [
    "model_pharmacy = SimpleExpSmoothing(pharmacy[\"pmpm\"]).fit(smoothing_level=0.5, optimized=False)\n",
    "forecast_pharmacy = model_pharmacy.forecast(6)"
   ]
  },
  {
   "cell_type": "code",
   "execution_count": null,
   "id": "61193873",
   "metadata": {},
   "outputs": [],
   "source": [
    "## 🔹 Step 5: Plot Forecasts\n",
    "plt.figure(figsize=(12, 5))\n",
    "plt.plot(inpatient[\"pmpm\"], label=\"Inpatient PMPM (Actual)\")\n",
    "plt.plot(forecast_inpatient, label=\"Inpatient Forecast\", linestyle=\"--\")\n",
    "plt.plot(pharmacy[\"pmpm\"], label=\"Pharmacy PMPM (Actual)\")\n",
    "plt.plot(forecast_pharmacy, label=\"Pharmacy Forecast\", linestyle=\"--\")\n",
    "plt.title(\"PMPM Forecast: Next 6 Months\")\n",
    "plt.xlabel(\"Month\")\n",
    "plt.ylabel(\"PMPM ($)\")\n",
    "plt.legend()\n",
    "plt.grid(True)\n",
    "plt.show()"
   ]
  },
  {
   "cell_type": "code",
   "execution_count": null,
   "id": "61c7ba62",
   "metadata": {},
   "outputs": [],
   "source": [
    "## 🔹 Step 6: Output Forecasted Values\n",
    "print(\"Inpatient Forecast:\")\n",
    "print(forecast_inpatient)"
   ]
  },
  {
   "cell_type": "code",
   "execution_count": null,
   "id": "6fddcef1",
   "metadata": {},
   "outputs": [],
   "source": [
    "print(\"\\nPharmacy Forecast:\")\n",
    "print(forecast_pharmacy)"
   ]
  }
 ],
 "metadata": {},
 "nbformat": 4,
 "nbformat_minor": 5
}
